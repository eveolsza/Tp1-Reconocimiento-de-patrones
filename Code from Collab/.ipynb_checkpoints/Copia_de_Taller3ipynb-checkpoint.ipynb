{
  "nbformat": 4,
  "nbformat_minor": 0,
  "metadata": {
    "colab": {
      "name": "Copia de Taller3ipynb",
      "provenance": [],
      "collapsed_sections": []
    },
    "kernelspec": {
      "display_name": "Python 3",
      "language": "python",
      "name": "python3"
    },
    "language_info": {
      "codemirror_mode": {
        "name": "ipython",
        "version": 3
      },
      "file_extension": ".py",
      "mimetype": "text/x-python",
      "name": "python",
      "nbconvert_exporter": "python",
      "pygments_lexer": "ipython3",
      "version": "3.7.3"
    }
  },
  "cells": [
    {
      "cell_type": "markdown",
      "metadata": {
        "colab_type": "text",
        "id": "o59o8vD1MDdv"
      },
      "source": [
        "# Taller 3, Métodos Numéricos\n",
        "\n",
        "El objetivo del taller es ejercitar los temas de interpolación e integración numérica. Por tal motivo, se deben resolver los siguientes ejercicios y responder las preguntas justificando adecuadamente.\n",
        "\n",
        "## Evaluación y entrega\n",
        "- La evaluación será mediante un coloquio con los docentes durante la clase.\n",
        "- El taller se realiza en grupos hasta 2 ó 3 personas."
      ]
    },
    {
      "cell_type": "code",
      "metadata": {
        "id": "R4VmxqQnFCSC",
        "colab_type": "code",
        "colab": {}
      },
      "source": [
        "import numpy as np\n",
        "from scipy.interpolate import interp1d\n",
        "from scipy.interpolate import lagrange\n",
        "import matplotlib.pyplot as plt\n",
        "from scipy.integrate import quad"
      ],
      "execution_count": 1,
      "outputs": []
    },
    {
      "cell_type": "markdown",
      "metadata": {
        "colab_type": "text",
        "id": "tao6ynwUMVZp"
      },
      "source": [
        "## Ejercicio 1\n",
        "\n",
        "Una tabla de una variable se dice bien *condicionada* para la interpolación lineal si el error debido a la interpolación no excede al error de redondeo de la tabla. \n",
        "Se desea construir una tabla de seis cifras (error menor a $10^{-6}$) para la función $log(x)$ en el intervalo $(1,10)$, de tal manera que la tabla esté bien condicionada para interpolación lineal. \n",
        "\n",
        "\n",
        "* Determinar el tamaño del paso $h$ más grande posible y la cantidad de valores de la misma.\n",
        "\n",
        " **HINT:** Tener en cuenta que para cualquier x en el intervalo $(1,10)$, deberá existir un $j$  tal que  $x_{j} \\leq x \\leq x_{j+1}$ con $x_{j}= 1 + hj$ de manera tal que el polinomio interpolador lineal de Lagrange \n",
        " \n",
        "    $$ P(x) = L_{0}(x)f(x_{0}) + L_{1}(x)f(x_{1})$$ en ese intervalo cumpla que \n",
        "    \n",
        "    $$ |log(x) - P(x)| \\leq 10^{-6}$$   "
      ]
    },
    {
      "cell_type": "markdown",
      "metadata": {
        "id": "h87HX0XxFCSS",
        "colab_type": "text"
      },
      "source": [
        "### **SOLUCIÓN**\n",
        "\n",
        "Error: $|{{f^{2}(c)}\\over{2}} (x-x_0)(x-x_1)| \\le 10^{-6}$\n",
        "\n",
        "$f^2(c) = {{-1}\\over{c^2}}$\n",
        "\n",
        "$|{{(x - x_0)(x - x_1)}\\over{2}}| \\le {h^2}/2 \\le 10^{-6}$\n",
        "\n",
        "Se encontró que el máximo del módulo se alcanza para $x = 1+3h/2$\n",
        "\n",
        "Al reemplazar en la fórmula de arriba nos queda:\n",
        "\n",
        "$|{{h^2}\\over{8}}| = {{h^2}\\over{8}} \\le 10^{-6}$\n",
        "\n",
        "$h \\le sqrt(8*10^{-6}) = 0.00282842712$\n",
        "\n",
        "---\n",
        "\n",
        "Ecuación: $L_i(x) = f(x_i) + {{f(x_i)-f(x_{i+1})}\\over{-h}}(x-x_i)$"
      ]
    },
    {
      "cell_type": "markdown",
      "metadata": {
        "id": "_hAnM_VEFCSU",
        "colab_type": "text"
      },
      "source": [
        "\n",
        "* Comparar y verifcar el error en puntos intermedios. Considerar usar la función [np.log(x)](https://docs.scipy.org/doc/numpy/reference/generated/numpy.log.html)\n"
      ]
    },
    {
      "cell_type": "code",
      "metadata": {
        "colab_type": "code",
        "id": "pRaDJ2OzYF_F",
        "colab": {
          "base_uri": "https://localhost:8080/",
          "height": 300
        },
        "outputId": "412b4a01-b078-45ef-c66e-7532256e1261"
      },
      "source": [
        "def interpolacion_lineal(x, h, xs):\n",
        "    '''\n",
        "    Evalua x utilizando interpolacion lineal segmentaria a partir de los nodos xs separados por distancia h\n",
        "    ''' \n",
        "    #xs = (1,...,10)\n",
        "    #h = tamaño de los intervalos\n",
        "    #x = elemento a evaluar\n",
        "    i = 0\n",
        "    while i < len(xs):\n",
        "      x_i = xs[i]\n",
        "      x_sig = xs[(i+h) % len(xs)]\n",
        "      if x >= x_i and x<= x_sig :    \n",
        "        ys = np.log(x_i) + ((np.log(x_sig) - np.log(x_i))/x_i - x_sig) * ( x_sig - x_i )   \n",
        "        break\n",
        "      i = ((i+h) % len(xs))\n",
        "    return ys\n",
        "\n",
        "# Verifiquemos la interpolación en puntos iniciales\n",
        "xs = np.array([1,10])\n",
        "ys = np.array([])\n",
        "h = 5\n",
        "\n",
        "print(xs)\n",
        "\n",
        "for i in xs:\n",
        "  print(ys)\n",
        "  ys = np.append(ys, interpolacion_lineal(i, h, xs))\n",
        "\n",
        "print(ys)\n",
        "assert(np.all(np.abs(ys - np.log(xs)) < 10**-12))\n",
        "\n",
        "# Ahora consideremos puntos intermedios a los originales\n",
        "xnew = 8\n",
        "ynew = interpolacion_lineal(xnew,h,xs)\n",
        "assert(np.all(np.abs(ynew - np.log(xnew)) < 10**-6))\n",
        "\n",
        "print(\"Ok\")"
      ],
      "execution_count": 72,
      "outputs": [
        {
          "output_type": "stream",
          "text": [
            "[ 1 10]\n",
            "[]\n",
            "[-69.27673416]\n",
            "[-69.27673416 -69.27673416]\n"
          ],
          "name": "stdout"
        },
        {
          "output_type": "error",
          "ename": "AssertionError",
          "evalue": "ignored",
          "traceback": [
            "\u001b[0;31m---------------------------------------------------------------------------\u001b[0m",
            "\u001b[0;31mAssertionError\u001b[0m                            Traceback (most recent call last)",
            "\u001b[0;32m<ipython-input-72-ad073105ba70>\u001b[0m in \u001b[0;36m<module>\u001b[0;34m()\u001b[0m\n\u001b[1;32m     28\u001b[0m \u001b[0;34m\u001b[0m\u001b[0m\n\u001b[1;32m     29\u001b[0m \u001b[0mprint\u001b[0m\u001b[0;34m(\u001b[0m\u001b[0mys\u001b[0m\u001b[0;34m)\u001b[0m\u001b[0;34m\u001b[0m\u001b[0;34m\u001b[0m\u001b[0m\n\u001b[0;32m---> 30\u001b[0;31m \u001b[0;32massert\u001b[0m\u001b[0;34m(\u001b[0m\u001b[0mnp\u001b[0m\u001b[0;34m.\u001b[0m\u001b[0mall\u001b[0m\u001b[0;34m(\u001b[0m\u001b[0mnp\u001b[0m\u001b[0;34m.\u001b[0m\u001b[0mabs\u001b[0m\u001b[0;34m(\u001b[0m\u001b[0mys\u001b[0m \u001b[0;34m-\u001b[0m \u001b[0mnp\u001b[0m\u001b[0;34m.\u001b[0m\u001b[0mlog\u001b[0m\u001b[0;34m(\u001b[0m\u001b[0mxs\u001b[0m\u001b[0;34m)\u001b[0m\u001b[0;34m)\u001b[0m \u001b[0;34m<\u001b[0m \u001b[0;36m10\u001b[0m\u001b[0;34m**\u001b[0m\u001b[0;34m-\u001b[0m\u001b[0;36m12\u001b[0m\u001b[0;34m)\u001b[0m\u001b[0;34m)\u001b[0m\u001b[0;34m\u001b[0m\u001b[0;34m\u001b[0m\u001b[0m\n\u001b[0m\u001b[1;32m     31\u001b[0m \u001b[0;34m\u001b[0m\u001b[0m\n\u001b[1;32m     32\u001b[0m \u001b[0;31m# Ahora consideremos puntos intermedios a los originales\u001b[0m\u001b[0;34m\u001b[0m\u001b[0;34m\u001b[0m\u001b[0;34m\u001b[0m\u001b[0m\n",
            "\u001b[0;31mAssertionError\u001b[0m: "
          ]
        }
      ]
    },
    {
      "cell_type": "markdown",
      "metadata": {
        "colab_type": "text",
        "id": "UlPJfvRSVmew"
      },
      "source": [
        "## Ejercicio 2\n",
        "\n",
        "* Dados los puntos $(-1,3), (1,1), (2,3), (3,7)$, determinar cuántos polinomios de grado $d$ existen que pasen por *todos* los puntos, para d $\\in \\{2, 3, 4\\} $."
      ]
    },
    {
      "cell_type": "markdown",
      "metadata": {
        "id": "rmymay_eFCSe",
        "colab_type": "text"
      },
      "source": [
        "---\n",
        "\n",
        "### **SOLUCIÓN**\n",
        "\n",
        "Por _unicidad_ sabemos que de existir un polinomio interpolante de grado _d_ será uno solo.\n",
        "\n",
        "Por lo tanto, queda determinar si existe o no dicho polinomio.\n",
        "\n",
        "En el caso del conjunto de puntos $(−1,3),(1,1),(2,3),(3,7)$ sabemos que seguro contamos con un polinomio de grado 3. \n",
        "\n",
        "Podría generar un polinomio de grado 4 agregando un punto _random_, de esa manera, sé que necesariamente pasará por lo puntos ya descritos y por el punto agregado. Así podría obtener polinomios de grados mayores agregando puntos. Dado que el punto elegido puede ser cualquiera, podemos tener infinitos polinomios interpoladores.\n",
        "\n",
        "Queda determinar si es posible encontrar un polinomio interpolante de grado 2 que pase por los 4 puntos al mismo tiempo.\n",
        "\n",
        "---"
      ]
    },
    {
      "cell_type": "markdown",
      "metadata": {
        "id": "wYP4M1yuFCSf",
        "colab_type": "text"
      },
      "source": [
        "* Para cada valor de $d$, en caso de ser posible, mostrar uno. \n",
        "\n",
        "**HINT:** Utilizar el método de diferencias divididas y graficar los polinomios intermedios.\n"
      ]
    },
    {
      "cell_type": "code",
      "metadata": {
        "colab_type": "code",
        "id": "rRLY6-EKXmkr",
        "colab": {
          "base_uri": "https://localhost:8080/",
          "height": 265
        },
        "outputId": "e8e7bb45-2f78-4986-e637-b5a7bb7e6d1d"
      },
      "source": [
        "%matplotlib inline\n",
        "import numpy as np\n",
        "import matplotlib.pyplot as plt\n",
        "\n",
        "def eval_poli(xnew, coef, x):\n",
        "    '''\n",
        "    Esta función evalua xnew en un polinomio de grado d encontrado\n",
        "    '''\n",
        "\n",
        "    eval = coef[0] + coef[1]*(xnew-x[0]) + coef[2]*(xnew-x[0])*(xnew-x[1]) + coef[3]*(xnew-x[0])*(xnew-x[1])*(xnew-x[2])\n",
        "\n",
        "    if len(x) == 5:\n",
        "      eval += coef[4]*(xnew-x[0])*(xnew-x[1])*(xnew-x[2])*(xnew-x[3])\n",
        "\n",
        "    return eval\n",
        "\n",
        "\n",
        "x = np.array([-1, 1, 2, 3])\n",
        "y = np.array([ 3, 1, 3, 7])\n",
        "\n",
        "# Coeficientes\n",
        "a = y[0]\n",
        "b1 = (y[1]-y[0])/(x[1]-x[0])\n",
        "aux21 = (y[2]-y[1])/(x[2]-x[1])\n",
        "b2 = (aux2-b1)/(x[2]-x[0])\n",
        "aux31 = (y[3]-y[2])/(x[3]-x[2])\n",
        "aux32 = (aux31-aux21)/(x[3]-x[1])\n",
        "b3 = (aux32-b2)/(x[3]-x[0])\n",
        "\n",
        "coef = np.array([a,b1,b2,b3])\n",
        "xnew = np.linspace(np.min(x), np.max(x), num=41, endpoint=True)\n",
        "ynew = eval_poli(xnew, coef, x)\n",
        "\n",
        "plt.plot(x,y,'bo')\n",
        "plt.plot(xnew, ynew)\n",
        "plt.grid()\n",
        "\n",
        "x = np.array([-1, 1, 2, 3, 0])\n",
        "y = np.array([ 3, 1, 3, 7, 15])\n",
        "\n",
        "aux41 = (y[4]-y[3])/(x[4]-x[3])\n",
        "aux42 = (aux41-aux31)/(x[4]-x[2])\n",
        "aux43 = (aux42-aux32)/(x[4]-x[1])\n",
        "b4    = (aux43-b3)/(x[4]-x[0])\n",
        "\n",
        "coef = np.array([a,b1,b2,b3,b4])\n",
        "xnew = np.linspace(np.min(x), np.max(x), num=41, endpoint=True)\n",
        "ynew = eval_poli(xnew, coef, x)\n",
        "\n",
        "plt.plot(x,y,'bo')\n",
        "plt.plot(xnew, ynew)\n",
        "plt.grid()"
      ],
      "execution_count": 73,
      "outputs": [
        {
          "output_type": "display_data",
          "data": {
            "image/png": "[encoded data removed]",
            "text/plain": [
              "<Figure size 432x288 with 1 Axes>"
            ]
          },
          "metadata": {
            "tags": [],
            "needs_background": "light"
          }
        }
      ]
    },
    {
      "cell_type": "markdown",
      "metadata": {
        "id": "f-BABa3AFCSn",
        "colab_type": "text"
      },
      "source": [
        "## Ejercicio 3\n",
        "\n",
        "Queremos aproximar la función coseno utilizando distintos tipos de splines y el polinomio de Lagrange para luego comparar el error obtenido."
      ]
    },
    {
      "cell_type": "code",
      "metadata": {
        "id": "s9qkUzt1FCSo",
        "colab_type": "code",
        "colab": {
          "base_uri": "https://localhost:8080/",
          "height": 303
        },
        "outputId": "e20270f4-1d86-4735-c8d5-4f57621de398"
      },
      "source": [
        "from scipy.interpolate import lagrange\n",
        "\n",
        "x = np.linspace(0,10,num=10) \n",
        "y = np.cos(x)\n",
        "\n",
        "# Obtengo los polinomios segun los nodos anteriores\n",
        "\n",
        "lagr = lagrange(x, y) \n",
        "linear = interp1d(x, y, kind='linear') \n",
        "\n",
        "# Interpolamos en otros puntos\n",
        "\n",
        "xs = np.linspace(0,10,100)\n",
        "ys_lagr = lagr(xs)\n",
        "ys_lin = linear(xs)\n",
        "\n",
        "# Ploteamos\n",
        "\n",
        "plt.plot(x, y, 'o', xs, ys_lagr, '-',  xs, ys_lin, '--')\n",
        "plt.legend(['cos','Lagrange','Linear'], loc='best')\n",
        "plt.grid(b=True,which='both')\n",
        "plt.axis([0,10, -1, 1])\n",
        "\n",
        "# Error\n",
        "\n",
        "print(\"Error Lagrange:\" + str(np.linalg.norm(np.cos(xs) - ys_lagr)))\n",
        "print(\"Error spline lineal\" + str(np.linalg.norm(np.cos(xs) - ys_lin)))"
      ],
      "execution_count": 11,
      "outputs": [
        {
          "output_type": "stream",
          "text": [
            "Error Lagrange:0.03171174757248928\n",
            "Error spline lineal0.7930831940837283\n"
          ],
          "name": "stdout"
        },
        {
          "output_type": "display_data",
          "data": {
            "image/png": "[encoded data removed]",
            "text/plain": [
              "<Figure size 432x288 with 1 Axes>"
            ]
          },
          "metadata": {
            "tags": [],
            "needs_background": "light"
          }
        }
      ]
    },
    {
      "cell_type": "markdown",
      "metadata": {
        "colab_type": "text",
        "id": "cLEinhttV8W-"
      },
      "source": [
        "* Dada la siguiente tabla de datos que representa la silueta de un **pato**, probar disintos tipos Splines junto con el polinomio de Lagrange y compararlos\n",
        "\n",
        "| x    | 0.9 | 1.3 | 1.9  | 2.1 | 2.6 | 3.0 | 3.9 | 4.4  | 4.7  | 5.0 | 6.0  | 7.0 | 8.0  | 9.2  | 10.5 | 11.3 | 11.6 | 12.0 | 12.6 | 13.0 | 13.3 |\n",
        "|------|-----|-----|------|-----|-----|-----|-----|------|------|-----|------|-----|------|------|------|------|------|------|------|------|------|\n",
        "| f(x) | 1.3 | 1.5 | 1.85 | 2.1 | 2.6 | 2.7 | 2.4 | 2.15 | 2.05 | 2.1 | 2.25 | 2.3 | 2.25 | 1.95 | 1.4  | 0.9  | 0.7  | 0.6  | 0.5  | 0.4  | 0.25 |"
      ]
    },
    {
      "cell_type": "code",
      "metadata": {
        "colab_type": "code",
        "id": "uQtGx2RGWagx",
        "colab": {
          "base_uri": "https://localhost:8080/",
          "height": 286
        },
        "outputId": "2c845583-4680-4461-dd8f-1cfa8ab34602"
      },
      "source": [
        "x = np.array([0.9, 1.3, 1.9, 2.1, 2.6, 3.0, 3.9, 4.4, 4.7, 5.0, 6.0,\n",
        "              7.0, 8.0, 9.2, 10.5, 11.3, 11.6, 12.0, 12.6, 13.0, 13.3])\n",
        "y = np.array([1.3, 1.5, 1.85, 2.1, 2.6, 2.7, 2.4, 2.15, 2.05, 2.1, \n",
        "              2.25, 2.3, 2.25, 1.95, 1.4, 0.9, 0.7, 0.6, 0.5, 0.4, 0.25])\n",
        "\n",
        "plt.plot(x, y, 'o')\n",
        "plt.grid(b=True,which='both')\n",
        "plt.axis([0, 14, -6, 4])"
      ],
      "execution_count": 59,
      "outputs": [
        {
          "output_type": "execute_result",
          "data": {
            "text/plain": [
              "(0.0, 14.0, -6.0, 4.0)"
            ]
          },
          "metadata": {
            "tags": []
          },
          "execution_count": 59
        },
        {
          "output_type": "display_data",
          "data": {
            "image/png": "[encoded data removed]",
            "text/plain": [
              "<Figure size 432x288 with 1 Axes>"
            ]
          },
          "metadata": {
            "tags": [],
            "needs_background": "light"
          }
        }
      ]
    },
    {
      "cell_type": "code",
      "metadata": {
        "colab_type": "code",
        "id": "lFezO55kWeXo",
        "colab": {
          "base_uri": "https://localhost:8080/",
          "height": 320
        },
        "outputId": "0060abb2-1a5f-4016-dc64-bc1e299979db"
      },
      "source": [
        "# Obtengo los polinomios segun los nodos anteriores\n",
        "\n",
        "x = x[5:15]\n",
        "y = y[5:15]\n",
        "\n",
        "lagr = lagrange(x, y)\n",
        "linear = interp1d(x, y, kind='linear')\n",
        "quadratic = interp1d(x, y, kind='quadratic')\n",
        "\n",
        "# Interpolamos en otros puntos\n",
        "\n",
        "xs = np.linspace(x[0],x[-1],10)\n",
        "ys_lagr = lagr(xs)\n",
        "ys_lin = linear(xs)\n",
        "ys_qua = quadratic(xs)\n",
        "\n",
        "# Ploteamos\n",
        "\n",
        "plt.plot(x, y, 'o', xs, ys_lagr, '-',  xs, ys_lin, '--', xs, ys_qua, '-')\n",
        "plt.legend(['pato','Lagrange','Linear','Quadratic'], loc='best')\n",
        "plt.grid(b=True,which='both')\n",
        "plt.axis([0, 15, -5, 6])\n",
        "\n",
        "# Error\n",
        "\n",
        "print(\"Error Lagrange:\" + str(np.linalg.norm(y - ys_lagr)))\n",
        "print(\"Error spline lineal: \" + str(np.linalg.norm(y - ys_lin)))\n",
        "print(\"Error spline quadratic: \" + str(np.linalg.norm(y - ys_qua)))"
      ],
      "execution_count": 60,
      "outputs": [
        {
          "output_type": "stream",
          "text": [
            "Error Lagrange:8.82472867532345\n",
            "Error spline lineal: 0.37204524186095994\n",
            "Error spline quadratic: 0.3607117678204833\n"
          ],
          "name": "stdout"
        },
        {
          "output_type": "display_data",
          "data": {
            "image/png": "[encoded data removed]",
            "text/plain": [
              "<Figure size 432x288 with 1 Axes>"
            ]
          },
          "metadata": {
            "tags": [],
            "needs_background": "light"
          }
        }
      ]
    },
    {
      "cell_type": "markdown",
      "metadata": {
        "colab_type": "text",
        "id": "xaK8dvlDWqOz"
      },
      "source": [
        "## Ejercicio 4\n",
        "\n",
        "* Deducir la fórmula de Newton-Cotes para $\\int_{0}^{1}f(x)dx$ usando como nodos a los puntos $0,1$\n",
        "\n",
        "\n"
      ]
    },
    {
      "cell_type": "markdown",
      "metadata": {
        "id": "0plw1FRKFCTA",
        "colab_type": "text"
      },
      "source": [
        "### **SOLUCIÓN**\n",
        "\n",
        "${\\displaystyle \\int _{a}^{b}f(x)dx\\sim (b-a)f\\left({\\frac {a+b}{2}}\\right)}$\n",
        "\n",
        "---\n",
        "\n",
        "Y el error asociado es:\n",
        "\n",
        "${\\displaystyle {\\frac {(b-a)^{3}}{24}}\\,f^{(2)}(\\xi )}$\n",
        "\n",
        "Con $\\xi$ un número entre $a$ y $b$"
      ]
    },
    {
      "cell_type": "markdown",
      "metadata": {
        "id": "_uOvT-WYFCTA",
        "colab_type": "text"
      },
      "source": [
        "* Utilizar el punto anterior para integrar $\\int_{0}^{1}\\exp (-x^{2})dx$"
      ]
    },
    {
      "cell_type": "code",
      "metadata": {
        "colab_type": "code",
        "id": "Q7FxZiP-W5xl",
        "colab": {
          "base_uri": "https://localhost:8080/",
          "height": 153
        },
        "outputId": "9f501ceb-f3ac-46c7-d217-564d37b1597f"
      },
      "source": [
        "def f(x):\n",
        "    return np.e**(-(x**2))\n",
        "\n",
        "# Pueden comparar contra esta función de scipy\n",
        "true_integral = quad(f, 0, 1)[0]\n",
        "integral = (1-0)*f((1+0)/2)\n",
        "\n",
        "print(true_integral)\n",
        "print(integral)\n",
        "\n",
        "error = 1/24*1\n",
        "\n",
        "print(\"\\nEl error está acotado por:\")\n",
        "print(error)\n",
        "\n",
        "print(\"\\nY vemos que la diferencia es de:\")\n",
        "print(abs(integral-true_integral))\n",
        "\n",
        "assert(abs(integral-true_integral)<error)"
      ],
      "execution_count": 81,
      "outputs": [
        {
          "output_type": "stream",
          "text": [
            "0.7468241328124271\n",
            "0.7788007830714049\n",
            "\n",
            "El error está acotado por:\n",
            "0.041666666666666664\n",
            "\n",
            "Y vemos que la diferencia es de:\n",
            "0.03197665025897778\n"
          ],
          "name": "stdout"
        }
      ]
    },
    {
      "cell_type": "markdown",
      "metadata": {
        "colab_type": "text",
        "id": "PrEGjvoVXBHw"
      },
      "source": [
        "## Ejercicio 5\n",
        "\n",
        "* Indicar cuántos puntos se deben tomar en la aproximación de\n",
        "$$\n",
        "\\int_{0}^{1}\\exp (-x^{2})dx\n",
        "$$\n",
        "por medio de la regla de los Trapecios Compuesta para que el error sea menor que $10^{-6}$.\n",
        "\n",
        "**HINT**: Graficar el modulo de la segunda derivada de $\\exp (-x^{2})$"
      ]
    },
    {
      "cell_type": "markdown",
      "metadata": {
        "id": "Ls_BtKIEFCTJ",
        "colab_type": "text"
      },
      "source": [
        "### **SOLUCIÓN**\n",
        "\n",
        "Derivada segunda de $f$: \n",
        "\n",
        "$2*exp(-x^2)*(2x^2-1)$\n",
        "\n",
        "---\n",
        "\n",
        "Error: \n",
        "\n",
        "${{(x_n − x_0)h^2}\\over{12}}*f^2(\\mu)$\n",
        "\n",
        "En nuestro caso:\n",
        "\n",
        "$h^2/12*f^2(c) \\le 10^{-6}$\n",
        "\n",
        "$h^2 \\le 12*10^{-6}*1/{f^2(c)}$\n",
        "\n",
        "$f^2(c) \\le 2$ está acotada por 2 en módulo viendo el gráfico de la derivada en wolframalpha.\n",
        "\n",
        "$h^2 \\le 6*10^{-6}$\n",
        "\n",
        "$h \\le sqrt(6*10^{-6}) = 0.00244948974$\n",
        "\n",
        "La cantidad de intervalos a tomar será ${1 \\over h} \\ge 409$"
      ]
    },
    {
      "cell_type": "markdown",
      "metadata": {
        "id": "E__Zmm1dFCTK",
        "colab_type": "text"
      },
      "source": [
        "\n",
        "* Calcular la aproximacion de la integral y comparar con el Ejercicio anterior"
      ]
    },
    {
      "cell_type": "code",
      "metadata": {
        "id": "T1I4Zu04FCTM",
        "colab_type": "code",
        "colab": {}
      },
      "source": [
        ""
      ],
      "execution_count": null,
      "outputs": []
    }
  ]
}